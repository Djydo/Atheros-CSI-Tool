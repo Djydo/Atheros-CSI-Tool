{
  "nbformat": 4,
  "nbformat_minor": 0,
  "metadata": {
    "colab": {
      "name": "ml_colab",
      "version": "0.3.2",
      "provenance": [],
      "collapsed_sections": [],
      "toc_visible": true,
      "include_colab_link": true
    },
    "kernelspec": {
      "name": "python3",
      "display_name": "Python 3"
    }
  },
  "cells": [
    {
      "cell_type": "markdown",
      "metadata": {
        "id": "view-in-github",
        "colab_type": "text"
      },
      "source": [
        "<a href=\"https://colab.research.google.com/github/Djydo/Atheros-CSI-Tool/blob/master/ml_colab.ipynb\" target=\"_parent\"><img src=\"https://colab.research.google.com/assets/colab-badge.svg\" alt=\"Open In Colab\"/></a>"
      ]
    },
    {
      "cell_type": "code",
      "metadata": {
        "id": "QHMR0AYcxeP6",
        "colab_type": "code",
        "colab": {
          "base_uri": "https://localhost:8080/",
          "height": 34
        },
        "outputId": "2cf32f7b-90d3-4b16-b986-ee38ad1b3d80"
      },
      "source": [
        "!pip install scikit-multilearn"
      ],
      "execution_count": 31,
      "outputs": [
        {
          "output_type": "stream",
          "text": [
            "Requirement already satisfied: scikit-multilearn in /usr/local/lib/python3.6/dist-packages (0.2.0)\n"
          ],
          "name": "stdout"
        }
      ]
    },
    {
      "cell_type": "markdown",
      "metadata": {
        "id": "cEY6kHVgTW97",
        "colab_type": "text"
      },
      "source": [
        ""
      ]
    },
    {
      "cell_type": "code",
      "metadata": {
        "id": "qHAKxu1vloLI",
        "colab_type": "code",
        "colab": {}
      },
      "source": [
        "import pandas as pd\n",
        "import matplotlib.pyplot as plt\n",
        "from sklearn.preprocessing import LabelEncoder\n",
        "from google.colab import files\n",
        "\n",
        "from skmultilearn.problem_transform import BinaryRelevance\n",
        "from sklearn.linear_model import LogisticRegression\n",
        "from sklearn.metrics import accuracy_score"
      ],
      "execution_count": 0,
      "outputs": []
    },
    {
      "cell_type": "markdown",
      "metadata": {
        "id": "izwtukrly60N",
        "colab_type": "text"
      },
      "source": [
        "### Mount Google drive "
      ]
    },
    {
      "cell_type": "code",
      "metadata": {
        "id": "bpMboiiSvfKb",
        "colab_type": "code",
        "outputId": "509a69b4-966c-47e3-b6c0-e1042bd9c61f",
        "colab": {
          "base_uri": "https://localhost:8080/",
          "height": 34
        }
      },
      "source": [
        "# Run this cell to mount your Google Drive.\n",
        "from google.colab import drive\n",
        "drive.mount(\"/content/drive\", force_remount=True)"
      ],
      "execution_count": 33,
      "outputs": [
        {
          "output_type": "stream",
          "text": [
            "Mounted at /content/drive\n"
          ],
          "name": "stdout"
        }
      ]
    },
    {
      "cell_type": "markdown",
      "metadata": {
        "id": "u7GmyjVO9deT",
        "colab_type": "text"
      },
      "source": [
        "### Feature Engineering   \n",
        "In the following cell, we perform feature engineering on raw data sample by transforming the categorical data  to numerical data.\n",
        "\n",
        "Also, the 'age' column is dropped and substituted with its alternative 'agecode'.\n"
      ]
    },
    {
      "cell_type": "code",
      "metadata": {
        "id": "AS-QSiLwmQmO",
        "colab_type": "code",
        "colab": {}
      },
      "source": [
        "# read data from googledrive file 'pysch_disease_dat.csv' into dataframe\n",
        "path = \"/content/drive/My Drive/pysch_disease_dat.csv\"\n",
        "df = pd.read_csv(path)\n",
        "\n",
        "#select the features/labels to transform and apply corresponding transformation\n",
        "labels = ['Insomnia', 'schizophrenia', 'vascula_demetia', 'MBD', 'Bipolar']\n",
        "features = ['sex', 'faNoily_status', 'religion', 'occupation', 'genetic', \\\n",
        "           'status', 'loss_of_parent', 'divorce', 'Injury', 'Spiritual_consult']\n",
        "label_transform = df[labels].apply(LabelEncoder().fit_transform)\n",
        "feature_transform = df[features].apply(LabelEncoder().fit_transform)\n",
        "df_transform = pd.concat([df['agecode'], feature_transform, label_transform], axis=1)"
      ],
      "execution_count": 0,
      "outputs": []
    },
    {
      "cell_type": "code",
      "metadata": {
        "id": "kjMuoOUTmQ6i",
        "colab_type": "code",
        "colab": {}
      },
      "source": [
        "# a glimpse into transform data frame\n",
        "\n",
        "# print(\"raw data (rows, columns): {}\".format(df.shape))\n",
        "# print(\"data frame size (rows, columns): {}\\n\".format(df_transform.shape))\n",
        "# print(df_transform.dtypes)\n",
        "# df_transform.describe()\n",
        "\n",
        "# df_transform[df[features].dtypes.index.values].hist(figsize=[11,11])\n",
        "# df_transform[df[labels].dtypes.index.values].hist(figsize=[11,11])\n"
      ],
      "execution_count": 0,
      "outputs": []
    },
    {
      "cell_type": "code",
      "metadata": {
        "id": "tiWGOvQvt7H_",
        "colab_type": "code",
        "colab": {}
      },
      "source": [
        "from sklearn.model_selection import train_test_split\n",
        "\n",
        "X, y = pd.concat([df['agecode'],feature_transform], axis=1),label_transform\n",
        "X_train, X_test, y_train, y_test = train_test_split(X, y, test_size=0.2, random_state=4)\n",
        "print(X_train.shape, y_train.shape)\n",
        "print(X_test.shape, y_test.shape)\n"
      ],
      "execution_count": 0,
      "outputs": []
    },
    {
      "cell_type": "markdown",
      "metadata": {
        "id": "Qqrtp2E2CkNd",
        "colab_type": "text"
      },
      "source": [
        "###  Binary Relevance using Logistic Regression classifier"
      ]
    },
    {
      "cell_type": "code",
      "metadata": {
        "id": "iTolNEOdxQpS",
        "colab_type": "code",
        "colab": {
          "base_uri": "https://localhost:8080/",
          "height": 51
        },
        "outputId": "d70cae9f-7fdb-4c83-8029-9d2bcb328f1b"
      },
      "source": [
        "classifier = BinaryRelevance(LogisticRegression(solver='liblinear'))\n",
        "classifier.fit(X_train, y_train)\n",
        "print(classifier.score(X_train, y_train))\n",
        "\n",
        "predictions = classifier.predict(X_test)\n",
        "accuracy_score(y_test,predictions)\n"
      ],
      "execution_count": 57,
      "outputs": [
        {
          "output_type": "stream",
          "text": [
            "0.3611940298507463\n"
          ],
          "name": "stdout"
        },
        {
          "output_type": "execute_result",
          "data": {
            "text/plain": [
              "0.34545454545454546"
            ]
          },
          "metadata": {
            "tags": []
          },
          "execution_count": 57
        }
      ]
    },
    {
      "cell_type": "code",
      "metadata": {
        "id": "rHkloWA7C6sb",
        "colab_type": "code",
        "colab": {
          "base_uri": "https://localhost:8080/",
          "height": 51
        },
        "outputId": "a970dc50-aa9b-4715-b693-d130f7e58c76"
      },
      "source": [
        "from sklearn.multioutput import MultiOutputClassifier\n",
        "from sklearn.ensemble import RandomForestClassifier\n",
        "\n",
        "forest = RandomForestClassifier(n_estimators=11, random_state=1)\n",
        "multi_target_forest = MultiOutputClassifier(forest, n_jobs=-1)\n",
        "f_classifier = multi_target_forest.fit(X_train, y_train)\n",
        "print(f_classifier.score(X_train, y_train))\n",
        "\n",
        "predictions = f_classifier.predict(X_test)\n",
        "accuracy_score(y_test,predictions)\n"
      ],
      "execution_count": 56,
      "outputs": [
        {
          "output_type": "stream",
          "text": [
            "0.8626865671641791\n"
          ],
          "name": "stdout"
        },
        {
          "output_type": "execute_result",
          "data": {
            "text/plain": [
              "0.3212121212121212"
            ]
          },
          "metadata": {
            "tags": []
          },
          "execution_count": 56
        }
      ]
    },
    {
      "cell_type": "code",
      "metadata": {
        "id": "bb0zRwqpFgX9",
        "colab_type": "code",
        "colab": {
          "base_uri": "https://localhost:8080/",
          "height": 51
        },
        "outputId": "45fc5474-6399-4f23-efda-248ff442cd9d"
      },
      "source": [
        "from skmultilearn.problem_transform import ClassifierChain\n",
        "from sklearn.naive_bayes import GaussianNB\n",
        "\n",
        "classifier = ClassifierChain(LogisticRegression(solver='liblinear'))  #0.28484848484848485\n",
        "# classifier = ClassifierChain(forest) # 0.3151515151515151\n",
        "classifier.fit(X_train, y_train)\n",
        "print(classifier.score(X_train, y_train))\n",
        "\n",
        "# predict\n",
        "predictions = classifier.predict(X_test)\n",
        "accuracy_score(y_test,predictions)"
      ],
      "execution_count": 55,
      "outputs": [
        {
          "output_type": "stream",
          "text": [
            "0.373134328358209\n"
          ],
          "name": "stdout"
        },
        {
          "output_type": "execute_result",
          "data": {
            "text/plain": [
              "0.3696969696969697"
            ]
          },
          "metadata": {
            "tags": []
          },
          "execution_count": 55
        }
      ]
    },
    {
      "cell_type": "code",
      "metadata": {
        "id": "FE6SSA1YHZfs",
        "colab_type": "code",
        "colab": {
          "base_uri": "https://localhost:8080/",
          "height": 51
        },
        "outputId": "d825e0d6-6137-456f-d1b6-9453a5a5aa81"
      },
      "source": [
        "from skmultilearn.problem_transform import LabelPowerset\n",
        "\n",
        "classifier = LabelPowerset(LogisticRegression(solver='liblinear',multi_class='ovr'))\n",
        "classifier.fit(X_train, y_train)\n",
        "print(classifier.score(X_train, y_train))\n",
        "\n",
        "predictions = classifier.predict(X_test)\n",
        "accuracy_score(y_test,predictions)"
      ],
      "execution_count": 54,
      "outputs": [
        {
          "output_type": "stream",
          "text": [
            "0.4059701492537313\n"
          ],
          "name": "stdout"
        },
        {
          "output_type": "execute_result",
          "data": {
            "text/plain": [
              "0.32727272727272727"
            ]
          },
          "metadata": {
            "tags": []
          },
          "execution_count": 54
        }
      ]
    },
    {
      "cell_type": "markdown",
      "metadata": {
        "id": "iSTZ3Nee3TZV",
        "colab_type": "text"
      },
      "source": [
        "## References   \n",
        "1. Stack Overflow feature and label categorical transformation. [link](https://stackoverflow.com/questions/24458645/label-encoding-across-multiple-columns-in-scikit-learn/34780935)\n",
        "2. "
      ]
    },
    {
      "cell_type": "code",
      "metadata": {
        "id": "f1J_nl7IpO0A",
        "colab_type": "code",
        "colab": {}
      },
      "source": [
        ""
      ],
      "execution_count": 0,
      "outputs": []
    }
  ]
}